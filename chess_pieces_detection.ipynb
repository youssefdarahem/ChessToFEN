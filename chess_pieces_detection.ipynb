{
  "cells": [
    {
      "cell_type": "code",
      "execution_count": 1,
      "metadata": {
        "colab": {
          "base_uri": "https://localhost:8080/"
        },
        "id": "FugnPep-wemo",
        "outputId": "796e1e66-c970-41e6-ac0a-a7270212760d"
      },
      "outputs": [
        {
          "output_type": "stream",
          "name": "stdout",
          "text": [
            "Mounted at /content/drive\n"
          ]
        }
      ],
      "source": [
        "from google.colab import drive\n",
        "drive.mount('/content/drive')"
      ]
    },
    {
      "cell_type": "code",
      "execution_count": 2,
      "metadata": {
        "id": "8ldZe6OlwiuP"
      },
      "outputs": [],
      "source": [
        "import numpy as np\n",
        "import tensorflow as tf\n",
        "from tensorflow import keras\n",
        "from tensorflow.keras import layers"
      ]
    },
    {
      "cell_type": "code",
      "execution_count": 3,
      "metadata": {
        "id": "Z-NS0l7Jwyb2"
      },
      "outputs": [],
      "source": [
        "folder = '/content/drive/My Drive/chess2fenNew/data'\n",
        "image_size = (128, 128)\n",
        "batch_size = 32"
      ]
    },
    {
      "cell_type": "code",
      "execution_count": 4,
      "metadata": {
        "colab": {
          "base_uri": "https://localhost:8080/"
        },
        "id": "-OeAL7oFyWnO",
        "outputId": "4d6473b2-e3d4-4e26-a048-e4ef8b5d9161"
      },
      "outputs": [
        {
          "output_type": "stream",
          "name": "stdout",
          "text": [
            "Found 2704 files belonging to 13 classes.\n",
            "Using 2164 files for training.\n"
          ]
        }
      ],
      "source": [
        "from keras.preprocessing.image import ImageDataGenerator\n",
        "\n",
        "# datagen = ImageDataGenerator(\n",
        "#         rotation_range=5,\n",
        "#         # width_shift_range=0.1,\n",
        "#         # height_shift_range=0.1,\n",
        "#         rescale=1./255,\n",
        "#         # horizontal_flip=True,\n",
        "#         # vertical_flip=True,\n",
        "#         fill_mode='nearest')\n",
        "\n",
        "# test_datagen = ImageDataGenerator(rescale=1./255)\n",
        "train_gen = tf.keras.utils.image_dataset_from_directory(\n",
        "  folder,\n",
        "  validation_split=0.2,\n",
        "  subset=\"training\",\n",
        "  seed=123,\n",
        "  image_size=image_size,\n",
        "  batch_size=batch_size)"
      ]
    },
    {
      "cell_type": "code",
      "execution_count": 5,
      "metadata": {
        "colab": {
          "base_uri": "https://localhost:8080/"
        },
        "id": "5FzaqjxD0cwd",
        "outputId": "2ba75f52-55c4-49a2-d744-d2aae1fd1827"
      },
      "outputs": [
        {
          "output_type": "stream",
          "name": "stdout",
          "text": [
            "Found 2704 files belonging to 13 classes.\n",
            "Using 540 files for validation.\n"
          ]
        }
      ],
      "source": [
        "test_gen = tf.keras.utils.image_dataset_from_directory(\n",
        "  folder,\n",
        "  validation_split=0.2,\n",
        "  subset=\"validation\",\n",
        "  seed=123,\n",
        "  image_size=image_size,\n",
        "  batch_size=batch_size,)"
      ]
    },
    {
      "cell_type": "code",
      "execution_count": 7,
      "metadata": {
        "colab": {
          "base_uri": "https://localhost:8080/"
        },
        "id": "Plq6_55C1MPc",
        "outputId": "90877800-fd6f-4873-8098-2352db965942"
      },
      "outputs": [
        {
          "output_type": "stream",
          "name": "stdout",
          "text": [
            "Model: \"vgg16\"\n",
            "_________________________________________________________________\n",
            " Layer (type)                Output Shape              Param #   \n",
            "=================================================================\n",
            " input_2 (InputLayer)        [(None, 224, 224, 3)]     0         \n",
            "                                                                 \n",
            " block1_conv1 (Conv2D)       (None, 224, 224, 64)      1792      \n",
            "                                                                 \n",
            " block1_conv2 (Conv2D)       (None, 224, 224, 64)      36928     \n",
            "                                                                 \n",
            " block1_pool (MaxPooling2D)  (None, 112, 112, 64)      0         \n",
            "                                                                 \n",
            " block2_conv1 (Conv2D)       (None, 112, 112, 128)     73856     \n",
            "                                                                 \n",
            " block2_conv2 (Conv2D)       (None, 112, 112, 128)     147584    \n",
            "                                                                 \n",
            " block2_pool (MaxPooling2D)  (None, 56, 56, 128)       0         \n",
            "                                                                 \n",
            " block3_conv1 (Conv2D)       (None, 56, 56, 256)       295168    \n",
            "                                                                 \n",
            " block3_conv2 (Conv2D)       (None, 56, 56, 256)       590080    \n",
            "                                                                 \n",
            " block3_conv3 (Conv2D)       (None, 56, 56, 256)       590080    \n",
            "                                                                 \n",
            " block3_pool (MaxPooling2D)  (None, 28, 28, 256)       0         \n",
            "                                                                 \n",
            " block4_conv1 (Conv2D)       (None, 28, 28, 512)       1180160   \n",
            "                                                                 \n",
            " block4_conv2 (Conv2D)       (None, 28, 28, 512)       2359808   \n",
            "                                                                 \n",
            " block4_conv3 (Conv2D)       (None, 28, 28, 512)       2359808   \n",
            "                                                                 \n",
            " block4_pool (MaxPooling2D)  (None, 14, 14, 512)       0         \n",
            "                                                                 \n",
            " block5_conv1 (Conv2D)       (None, 14, 14, 512)       2359808   \n",
            "                                                                 \n",
            " block5_conv2 (Conv2D)       (None, 14, 14, 512)       2359808   \n",
            "                                                                 \n",
            " block5_conv3 (Conv2D)       (None, 14, 14, 512)       2359808   \n",
            "                                                                 \n",
            " block5_pool (MaxPooling2D)  (None, 7, 7, 512)         0         \n",
            "                                                                 \n",
            " flatten (Flatten)           (None, 25088)             0         \n",
            "                                                                 \n",
            " fc1 (Dense)                 (None, 4096)              102764544 \n",
            "                                                                 \n",
            " fc2 (Dense)                 (None, 4096)              16781312  \n",
            "                                                                 \n",
            " predictions (Dense)         (None, 1000)              4097000   \n",
            "                                                                 \n",
            "=================================================================\n",
            "Total params: 138,357,544\n",
            "Trainable params: 138,357,544\n",
            "Non-trainable params: 0\n",
            "_________________________________________________________________\n"
          ]
        }
      ],
      "source": [
        "from keras.applications.vgg16 import VGG16\n",
        "from keras.applications.imagenet_utils import decode_predictions\n",
        "\n",
        "model = VGG16(weights='imagenet')\n",
        "model.summary()"
      ]
    },
    {
      "cell_type": "code",
      "execution_count": 11,
      "metadata": {
        "id": "7J1btS1W3JBP",
        "colab": {
          "base_uri": "https://localhost:8080/"
        },
        "outputId": "f2ccf982-1c0a-4ef1-806e-573c5d6f8d2d"
      },
      "outputs": [
        {
          "output_type": "stream",
          "name": "stdout",
          "text": [
            "Model: \"model_1\"\n",
            "_________________________________________________________________\n",
            " Layer (type)                Output Shape              Param #   \n",
            "=================================================================\n",
            " input_4 (InputLayer)        [(None, 128, 128, 3)]     0         \n",
            "                                                                 \n",
            " block1_conv1 (Conv2D)       (None, 128, 128, 64)      1792      \n",
            "                                                                 \n",
            " block1_conv2 (Conv2D)       (None, 128, 128, 64)      36928     \n",
            "                                                                 \n",
            " block1_pool (MaxPooling2D)  (None, 64, 64, 64)        0         \n",
            "                                                                 \n",
            " block2_conv1 (Conv2D)       (None, 64, 64, 128)       73856     \n",
            "                                                                 \n",
            " block2_conv2 (Conv2D)       (None, 64, 64, 128)       147584    \n",
            "                                                                 \n",
            " block2_pool (MaxPooling2D)  (None, 32, 32, 128)       0         \n",
            "                                                                 \n",
            " block3_conv1 (Conv2D)       (None, 32, 32, 256)       295168    \n",
            "                                                                 \n",
            " block3_conv2 (Conv2D)       (None, 32, 32, 256)       590080    \n",
            "                                                                 \n",
            " block3_conv3 (Conv2D)       (None, 32, 32, 256)       590080    \n",
            "                                                                 \n",
            " block3_pool (MaxPooling2D)  (None, 16, 16, 256)       0         \n",
            "                                                                 \n",
            " block4_conv1 (Conv2D)       (None, 16, 16, 512)       1180160   \n",
            "                                                                 \n",
            " block4_conv2 (Conv2D)       (None, 16, 16, 512)       2359808   \n",
            "                                                                 \n",
            " block4_conv3 (Conv2D)       (None, 16, 16, 512)       2359808   \n",
            "                                                                 \n",
            " block4_pool (MaxPooling2D)  (None, 8, 8, 512)         0         \n",
            "                                                                 \n",
            " block5_conv1 (Conv2D)       (None, 8, 8, 512)         2359808   \n",
            "                                                                 \n",
            " block5_conv2 (Conv2D)       (None, 8, 8, 512)         2359808   \n",
            "                                                                 \n",
            " block5_conv3 (Conv2D)       (None, 8, 8, 512)         2359808   \n",
            "                                                                 \n",
            " block5_pool (MaxPooling2D)  (None, 4, 4, 512)         0         \n",
            "                                                                 \n",
            " flatten_1 (Flatten)         (None, 8192)              0         \n",
            "                                                                 \n",
            " dense_3 (Dense)             (None, 750)               6144750   \n",
            "                                                                 \n",
            " dropout_2 (Dropout)         (None, 750)               0         \n",
            "                                                                 \n",
            " dense_4 (Dense)             (None, 750)               563250    \n",
            "                                                                 \n",
            " dropout_3 (Dropout)         (None, 750)               0         \n",
            "                                                                 \n",
            " dense_5 (Dense)             (None, 13)                9763      \n",
            "                                                                 \n",
            "=================================================================\n",
            "Total params: 21,432,451\n",
            "Trainable params: 6,717,763\n",
            "Non-trainable params: 14,714,688\n",
            "_________________________________________________________________\n"
          ]
        }
      ],
      "source": [
        "from keras.models import Sequential\n",
        "from keras.layers import Dense, Conv2D, MaxPooling2D, Flatten, Dropout\n",
        "from keras.models import Model\n",
        "from tensorflow.keras import regularizers\n",
        "\n",
        "base_model = VGG16(weights='imagenet', include_top=False, input_shape=(128,128,3)) \n",
        " \n",
        "# Freeze convolutional layers\n",
        "for layer in base_model.layers:\n",
        "    layer.trainable = False    \n",
        "\n",
        "# Establish new fully connected block\n",
        "x = base_model.output\n",
        "x = Flatten()(x)  # flatten from convolution tensor output  \n",
        "# number of layers and units are hyperparameters, as usual\n",
        "x = Dense(750, activation='relu', kernel_regularizer=regularizers.L1(1e-3),bias_regularizer=regularizers.L1(1e-3))(x) # number of layers and units are hyperparameters, as usual\n",
        "x = Dropout(0.3)(x)\n",
        "x = Dense(750, activation='relu', kernel_regularizer=regularizers.L1(1e-3),bias_regularizer=regularizers.L1(1e-3))(x)\n",
        "x = Dropout(0.3)(x)\n",
        "# x = Dense(1000, activation='relu')(x)\n",
        "# x = Dropout(0.6)(x)\n",
        "# x = Dense(750, activation='relu')(x)\n",
        "# x = Dropout(0.6)(x)\n",
        "# x = Dense(500, activation='relu')(x)\n",
        "# x = Dropout(0.6)(x)\n",
        "predictions = Dense(13)(x)\n",
        "# predictions = Dense(13, activation='softmax')(x) # should match # of classes predicted\n",
        "\n",
        "# this is the model we will train\n",
        "model = Model(inputs=base_model.input, outputs=predictions)\n",
        "# model.compile(optimizer='adam', loss='categorical_crossentropy', metrics=['categorical_accuracy'])\n",
        "model.compile(optimizer='adam', loss=tf.losses.SparseCategoricalCrossentropy(from_logits=True),\n",
        "  metrics=['accuracy'])\n",
        "model.summary()"
      ]
    },
    {
      "cell_type": "code",
      "execution_count": 12,
      "metadata": {
        "colab": {
          "base_uri": "https://localhost:8080/"
        },
        "id": "NWwMLiUu3Q34",
        "outputId": "6950287e-aa4b-4b90-b93c-ec8e34ad89af"
      },
      "outputs": [
        {
          "output_type": "stream",
          "name": "stdout",
          "text": [
            "Epoch 1/80\n",
            "68/68 [==============================] - 7s 87ms/step - loss: 53.8304 - accuracy: 0.3900 - val_loss: 33.2066 - val_accuracy: 0.6148\n",
            "Epoch 2/80\n",
            "68/68 [==============================] - 6s 86ms/step - loss: 27.9494 - accuracy: 0.5855 - val_loss: 23.1618 - val_accuracy: 0.6722\n",
            "Epoch 3/80\n",
            "68/68 [==============================] - 6s 80ms/step - loss: 20.2455 - accuracy: 0.6793 - val_loss: 17.4925 - val_accuracy: 0.7426\n",
            "Epoch 4/80\n",
            "68/68 [==============================] - 6s 86ms/step - loss: 15.7716 - accuracy: 0.7204 - val_loss: 13.9735 - val_accuracy: 0.7370\n",
            "Epoch 5/80\n",
            "68/68 [==============================] - 6s 83ms/step - loss: 12.7947 - accuracy: 0.7537 - val_loss: 11.6241 - val_accuracy: 0.7407\n",
            "Epoch 6/80\n",
            "68/68 [==============================] - 6s 86ms/step - loss: 10.7178 - accuracy: 0.7477 - val_loss: 9.8554 - val_accuracy: 0.7741\n",
            "Epoch 7/80\n",
            "68/68 [==============================] - 6s 80ms/step - loss: 9.0156 - accuracy: 0.7962 - val_loss: 8.5115 - val_accuracy: 0.7519\n",
            "Epoch 8/80\n",
            "68/68 [==============================] - 6s 80ms/step - loss: 8.0136 - accuracy: 0.7583 - val_loss: 7.5353 - val_accuracy: 0.7852\n",
            "Epoch 9/80\n",
            "68/68 [==============================] - 6s 86ms/step - loss: 7.0039 - accuracy: 0.7773 - val_loss: 6.4227 - val_accuracy: 0.8130\n",
            "Epoch 10/80\n",
            "68/68 [==============================] - 6s 81ms/step - loss: 6.0955 - accuracy: 0.7971 - val_loss: 5.8924 - val_accuracy: 0.7907\n",
            "Epoch 11/80\n",
            "68/68 [==============================] - 6s 80ms/step - loss: 5.4980 - accuracy: 0.8078 - val_loss: 5.3610 - val_accuracy: 0.7926\n",
            "Epoch 12/80\n",
            "68/68 [==============================] - 6s 86ms/step - loss: 5.0798 - accuracy: 0.8119 - val_loss: 4.8649 - val_accuracy: 0.8074\n",
            "Epoch 13/80\n",
            "68/68 [==============================] - 6s 79ms/step - loss: 4.5878 - accuracy: 0.8207 - val_loss: 4.5276 - val_accuracy: 0.8130\n",
            "Epoch 14/80\n",
            "68/68 [==============================] - 6s 80ms/step - loss: 4.2084 - accuracy: 0.8360 - val_loss: 4.1316 - val_accuracy: 0.7796\n",
            "Epoch 15/80\n",
            "68/68 [==============================] - 6s 82ms/step - loss: 3.7704 - accuracy: 0.8563 - val_loss: 3.7103 - val_accuracy: 0.7963\n",
            "Epoch 16/80\n",
            "68/68 [==============================] - 6s 87ms/step - loss: 3.5671 - accuracy: 0.8396 - val_loss: 3.5305 - val_accuracy: 0.8426\n",
            "Epoch 17/80\n",
            "68/68 [==============================] - 6s 80ms/step - loss: 3.2739 - accuracy: 0.8567 - val_loss: 3.2189 - val_accuracy: 0.8370\n",
            "Epoch 18/80\n",
            "68/68 [==============================] - 6s 80ms/step - loss: 2.9916 - accuracy: 0.8660 - val_loss: 3.0821 - val_accuracy: 0.8000\n",
            "Epoch 19/80\n",
            "68/68 [==============================] - 6s 84ms/step - loss: 2.8294 - accuracy: 0.8600 - val_loss: 2.9868 - val_accuracy: 0.8056\n",
            "Epoch 20/80\n",
            "68/68 [==============================] - 6s 86ms/step - loss: 2.8101 - accuracy: 0.8628 - val_loss: 2.8871 - val_accuracy: 0.8056\n",
            "Epoch 21/80\n",
            "68/68 [==============================] - 6s 82ms/step - loss: 2.6136 - accuracy: 0.8554 - val_loss: 2.7582 - val_accuracy: 0.8222\n",
            "Epoch 22/80\n",
            "68/68 [==============================] - 6s 82ms/step - loss: 2.7218 - accuracy: 0.8494 - val_loss: 2.7358 - val_accuracy: 0.8444\n",
            "Epoch 23/80\n",
            "68/68 [==============================] - 6s 86ms/step - loss: 2.5959 - accuracy: 0.8775 - val_loss: 2.6762 - val_accuracy: 0.8222\n",
            "Epoch 24/80\n",
            "68/68 [==============================] - 6s 80ms/step - loss: 2.6962 - accuracy: 0.8341 - val_loss: 2.8314 - val_accuracy: 0.8259\n",
            "Epoch 25/80\n",
            "68/68 [==============================] - 6s 85ms/step - loss: 2.6093 - accuracy: 0.8655 - val_loss: 2.5941 - val_accuracy: 0.8278\n",
            "Epoch 26/80\n",
            "68/68 [==============================] - 6s 89ms/step - loss: 2.4344 - accuracy: 0.8637 - val_loss: 2.5447 - val_accuracy: 0.8352\n",
            "Epoch 27/80\n",
            "68/68 [==============================] - 6s 85ms/step - loss: 2.3690 - accuracy: 0.8720 - val_loss: 2.5119 - val_accuracy: 0.8296\n",
            "Epoch 28/80\n",
            "68/68 [==============================] - 6s 80ms/step - loss: 2.3312 - accuracy: 0.8720 - val_loss: 2.3866 - val_accuracy: 0.8278\n",
            "Epoch 29/80\n",
            "68/68 [==============================] - 6s 81ms/step - loss: 2.2831 - accuracy: 0.8586 - val_loss: 2.6063 - val_accuracy: 0.8130\n",
            "Epoch 30/80\n",
            "68/68 [==============================] - 6s 83ms/step - loss: 2.3957 - accuracy: 0.8572 - val_loss: 2.4917 - val_accuracy: 0.8519\n",
            "Epoch 31/80\n",
            "68/68 [==============================] - 6s 82ms/step - loss: 2.3525 - accuracy: 0.8725 - val_loss: 2.4279 - val_accuracy: 0.8315\n",
            "Epoch 32/80\n",
            "68/68 [==============================] - 6s 85ms/step - loss: 2.3202 - accuracy: 0.8706 - val_loss: 2.4486 - val_accuracy: 0.8444\n",
            "Epoch 33/80\n",
            "68/68 [==============================] - 6s 88ms/step - loss: 2.1985 - accuracy: 0.8923 - val_loss: 2.4199 - val_accuracy: 0.8426\n",
            "Epoch 34/80\n",
            "68/68 [==============================] - 6s 81ms/step - loss: 2.3874 - accuracy: 0.8549 - val_loss: 2.7022 - val_accuracy: 0.8093\n",
            "Epoch 35/80\n",
            "68/68 [==============================] - 6s 87ms/step - loss: 2.3553 - accuracy: 0.8720 - val_loss: 2.3429 - val_accuracy: 0.8352\n",
            "Epoch 36/80\n",
            "68/68 [==============================] - 6s 82ms/step - loss: 2.4509 - accuracy: 0.8457 - val_loss: 2.5709 - val_accuracy: 0.8407\n",
            "Epoch 37/80\n",
            "68/68 [==============================] - 6s 82ms/step - loss: 2.4325 - accuracy: 0.8632 - val_loss: 2.6220 - val_accuracy: 0.8481\n",
            "Epoch 38/80\n",
            "68/68 [==============================] - 6s 84ms/step - loss: 2.3187 - accuracy: 0.8812 - val_loss: 2.3602 - val_accuracy: 0.8537\n",
            "Epoch 39/80\n",
            "68/68 [==============================] - 8s 108ms/step - loss: 2.2703 - accuracy: 0.8683 - val_loss: 2.6121 - val_accuracy: 0.8407\n",
            "Epoch 40/80\n",
            "68/68 [==============================] - 6s 80ms/step - loss: 2.6200 - accuracy: 0.8507 - val_loss: 2.7690 - val_accuracy: 0.8222\n",
            "Epoch 41/80\n",
            "68/68 [==============================] - 6s 83ms/step - loss: 2.4905 - accuracy: 0.8651 - val_loss: 2.5339 - val_accuracy: 0.8352\n",
            "Epoch 42/80\n",
            "68/68 [==============================] - 6s 81ms/step - loss: 2.3723 - accuracy: 0.8808 - val_loss: 2.5842 - val_accuracy: 0.8167\n",
            "Epoch 43/80\n",
            "68/68 [==============================] - 6s 83ms/step - loss: 2.5257 - accuracy: 0.8521 - val_loss: 2.7751 - val_accuracy: 0.8278\n",
            "Epoch 44/80\n",
            "68/68 [==============================] - 6s 87ms/step - loss: 2.4318 - accuracy: 0.8554 - val_loss: 2.4464 - val_accuracy: 0.8278\n",
            "Epoch 45/80\n",
            "68/68 [==============================] - 6s 89ms/step - loss: 2.4015 - accuracy: 0.8406 - val_loss: 2.5788 - val_accuracy: 0.8370\n",
            "Epoch 46/80\n",
            "68/68 [==============================] - 6s 85ms/step - loss: 2.5983 - accuracy: 0.8410 - val_loss: 2.7389 - val_accuracy: 0.8093\n",
            "Epoch 47/80\n",
            "68/68 [==============================] - 6s 89ms/step - loss: 2.4346 - accuracy: 0.8641 - val_loss: 2.5138 - val_accuracy: 0.8093\n",
            "Epoch 48/80\n",
            "68/68 [==============================] - 6s 84ms/step - loss: 2.3326 - accuracy: 0.8383 - val_loss: 2.6103 - val_accuracy: 0.8167\n",
            "Epoch 49/80\n",
            "68/68 [==============================] - 6s 82ms/step - loss: 2.4887 - accuracy: 0.8470 - val_loss: 2.7261 - val_accuracy: 0.8352\n",
            "Epoch 50/80\n",
            "68/68 [==============================] - 6s 81ms/step - loss: 2.4569 - accuracy: 0.8711 - val_loss: 2.3558 - val_accuracy: 0.8593\n",
            "Epoch 51/80\n",
            "68/68 [==============================] - 6s 81ms/step - loss: 2.1493 - accuracy: 0.8683 - val_loss: 2.3180 - val_accuracy: 0.8074\n",
            "Epoch 52/80\n",
            "68/68 [==============================] - 6s 80ms/step - loss: 2.2719 - accuracy: 0.8355 - val_loss: 2.4933 - val_accuracy: 0.8426\n",
            "Epoch 53/80\n",
            "68/68 [==============================] - 6s 86ms/step - loss: 2.5137 - accuracy: 0.8512 - val_loss: 2.6760 - val_accuracy: 0.8130\n",
            "Epoch 54/80\n",
            "68/68 [==============================] - 6s 85ms/step - loss: 2.5572 - accuracy: 0.8387 - val_loss: 2.4570 - val_accuracy: 0.8222\n",
            "Epoch 55/80\n",
            "68/68 [==============================] - 6s 81ms/step - loss: 2.4531 - accuracy: 0.8452 - val_loss: 2.6303 - val_accuracy: 0.8204\n",
            "Epoch 56/80\n",
            "68/68 [==============================] - 6s 83ms/step - loss: 2.4899 - accuracy: 0.8535 - val_loss: 2.4686 - val_accuracy: 0.8500\n",
            "Epoch 57/80\n",
            "68/68 [==============================] - 6s 80ms/step - loss: 2.3315 - accuracy: 0.8729 - val_loss: 2.3810 - val_accuracy: 0.8407\n",
            "Epoch 58/80\n",
            "68/68 [==============================] - 6s 86ms/step - loss: 2.4068 - accuracy: 0.8623 - val_loss: 2.6205 - val_accuracy: 0.8481\n",
            "Epoch 59/80\n",
            "68/68 [==============================] - 6s 89ms/step - loss: 2.4077 - accuracy: 0.8775 - val_loss: 2.4753 - val_accuracy: 0.8167\n",
            "Epoch 60/80\n",
            "68/68 [==============================] - 6s 80ms/step - loss: 2.5856 - accuracy: 0.8410 - val_loss: 2.6639 - val_accuracy: 0.8426\n",
            "Epoch 61/80\n",
            "68/68 [==============================] - 6s 80ms/step - loss: 2.4754 - accuracy: 0.8660 - val_loss: 2.6485 - val_accuracy: 0.8278\n",
            "Epoch 62/80\n",
            "68/68 [==============================] - 6s 87ms/step - loss: 2.3092 - accuracy: 0.8683 - val_loss: 2.3907 - val_accuracy: 0.8426\n",
            "Epoch 63/80\n",
            "68/68 [==============================] - 6s 85ms/step - loss: 2.4379 - accuracy: 0.8688 - val_loss: 2.6390 - val_accuracy: 0.8148\n",
            "Epoch 64/80\n",
            "68/68 [==============================] - 6s 83ms/step - loss: 2.4739 - accuracy: 0.8692 - val_loss: 2.4708 - val_accuracy: 0.8370\n",
            "Epoch 65/80\n",
            "68/68 [==============================] - 6s 80ms/step - loss: 2.4039 - accuracy: 0.8646 - val_loss: 2.5125 - val_accuracy: 0.8315\n",
            "Epoch 66/80\n",
            "68/68 [==============================] - 6s 80ms/step - loss: 2.3440 - accuracy: 0.8729 - val_loss: 2.5450 - val_accuracy: 0.8074\n",
            "Epoch 67/80\n",
            "68/68 [==============================] - 6s 80ms/step - loss: 2.4008 - accuracy: 0.8762 - val_loss: 2.6364 - val_accuracy: 0.8259\n",
            "Epoch 68/80\n",
            "68/68 [==============================] - 6s 80ms/step - loss: 2.4940 - accuracy: 0.8623 - val_loss: 2.8207 - val_accuracy: 0.8185\n",
            "Epoch 69/80\n",
            "68/68 [==============================] - 6s 81ms/step - loss: 2.6298 - accuracy: 0.8665 - val_loss: 2.6935 - val_accuracy: 0.8259\n",
            "Epoch 70/80\n",
            "68/68 [==============================] - 6s 89ms/step - loss: 2.4450 - accuracy: 0.8743 - val_loss: 2.6078 - val_accuracy: 0.8407\n",
            "Epoch 71/80\n",
            "68/68 [==============================] - 7s 102ms/step - loss: 2.4476 - accuracy: 0.8775 - val_loss: 2.4464 - val_accuracy: 0.8352\n",
            "Epoch 72/80\n",
            "68/68 [==============================] - 6s 85ms/step - loss: 2.3534 - accuracy: 0.8785 - val_loss: 2.6225 - val_accuracy: 0.8241\n",
            "Epoch 73/80\n",
            "68/68 [==============================] - 6s 82ms/step - loss: 2.4420 - accuracy: 0.8729 - val_loss: 2.7417 - val_accuracy: 0.8315\n",
            "Epoch 74/80\n",
            "68/68 [==============================] - 6s 86ms/step - loss: 2.4245 - accuracy: 0.8863 - val_loss: 2.3964 - val_accuracy: 0.8426\n",
            "Epoch 75/80\n",
            "68/68 [==============================] - 6s 81ms/step - loss: 2.3066 - accuracy: 0.8738 - val_loss: 2.7394 - val_accuracy: 0.8259\n",
            "Epoch 76/80\n",
            "68/68 [==============================] - 6s 89ms/step - loss: 2.6823 - accuracy: 0.8692 - val_loss: 2.8732 - val_accuracy: 0.8111\n",
            "Epoch 77/80\n",
            "68/68 [==============================] - 6s 83ms/step - loss: 2.6500 - accuracy: 0.8641 - val_loss: 2.8332 - val_accuracy: 0.8315\n",
            "Epoch 78/80\n",
            "68/68 [==============================] - 6s 87ms/step - loss: 2.3781 - accuracy: 0.8886 - val_loss: 2.5660 - val_accuracy: 0.8315\n",
            "Epoch 79/80\n",
            "68/68 [==============================] - 6s 90ms/step - loss: 2.4035 - accuracy: 0.8789 - val_loss: 2.6797 - val_accuracy: 0.8389\n",
            "Epoch 80/80\n",
            "68/68 [==============================] - 6s 90ms/step - loss: 2.4766 - accuracy: 0.8766 - val_loss: 2.6254 - val_accuracy: 0.8352\n",
            "INFO:tensorflow:Assets written to: /content/drive/My Drive/chess2fenNew/model/assets\n"
          ]
        }
      ],
      "source": [
        "epochs = 80\n",
        "\n",
        "history = model.fit(\n",
        "    train_gen, \n",
        "    epochs=epochs,\n",
        "    verbose = 1,\n",
        "    validation_data=test_gen\n",
        "    )\n",
        "dir = '/content/drive/My Drive/chess2fenNew/model'\n",
        "\n",
        "model.save_weights('/content/drive/My Drive/chess2fenNew/modelfinal.h5',save_format='h5')\n",
        "model.save(dir)"
      ]
    },
    {
      "cell_type": "code",
      "execution_count": 13,
      "metadata": {
        "colab": {
          "base_uri": "https://localhost:8080/",
          "height": 295
        },
        "id": "w2oNGGKeLo5n",
        "outputId": "49a285f5-f903-47a5-ea4f-5b17d91b7042"
      },
      "outputs": [
        {
          "output_type": "display_data",
          "data": {
            "text/plain": [
              "<Figure size 432x288 with 1 Axes>"
            ],
            "image/png": "[encoded data removed]"
          },
          "metadata": {
            "needs_background": "light"
          }
        }
      ],
      "source": [
        "import seaborn as sn\n",
        "import matplotlib.pyplot as plt\n",
        "import pandas as pd\n",
        "\n",
        "# history_dict = history.history\n",
        "# history_dict.keys()\n",
        "\n",
        "plt.plot(history.history['accuracy'], 'b')\n",
        "plt.plot(history.history['val_accuracy'], 'ko')\n",
        "\n",
        "plt.title('Accuracy vs Training Epoch')\n",
        "plt.xlabel('Epoch')\n",
        "plt.ylabel('Accuracy')\n",
        "plt.legend(['Train', 'Validation']);"
      ]
    },
    {
      "cell_type": "code",
      "execution_count": 14,
      "metadata": {
        "colab": {
          "base_uri": "https://localhost:8080/"
        },
        "id": "3P7FHX05MLUD",
        "outputId": "2cdb72b4-22ea-4061-a6c4-c771fcb8515b"
      },
      "outputs": [
        {
          "output_type": "stream",
          "name": "stdout",
          "text": [
            "1/1 - 0s - 165ms/epoch - 165ms/step\n",
            "1/1 - 0s - 17ms/epoch - 17ms/step\n",
            "1/1 - 0s - 22ms/epoch - 22ms/step\n",
            "1/1 - 0s - 28ms/epoch - 28ms/step\n",
            "1/1 - 0s - 22ms/epoch - 22ms/step\n",
            "1/1 - 0s - 17ms/epoch - 17ms/step\n",
            "1/1 - 0s - 24ms/epoch - 24ms/step\n",
            "1/1 - 0s - 34ms/epoch - 34ms/step\n",
            "1/1 - 0s - 17ms/epoch - 17ms/step\n",
            "1/1 - 0s - 18ms/epoch - 18ms/step\n",
            "1/1 - 0s - 16ms/epoch - 16ms/step\n",
            "1/1 - 0s - 16ms/epoch - 16ms/step\n",
            "1/1 - 0s - 16ms/epoch - 16ms/step\n",
            "1/1 - 0s - 17ms/epoch - 17ms/step\n",
            "1/1 - 0s - 18ms/epoch - 18ms/step\n",
            "1/1 - 0s - 16ms/epoch - 16ms/step\n",
            "1/1 - 0s - 124ms/epoch - 124ms/step\n",
            "['BP', 'BQ', 'WB', 'EMPTY', 'BB', 'WQ', 'BP', 'WK', 'EMPTY', 'BQ', 'BR', 'WB', 'WP', 'WB', 'BP', 'WR', 'BR', 'EMPTY', 'BP', 'WN', 'WN', 'BK', 'BN', 'BB', 'BR', 'BQ', 'BN', 'BK', 'BQ', 'WB', 'WQ', 'BN', 'WP', 'BN', 'WK', 'WQ', 'WQ', 'WN', 'WB', 'EMPTY', 'BR', 'BB', 'BQ', 'BN', 'BK', 'BR', 'WP', 'BR', 'WQ', 'BR', 'WP', 'BN', 'BQ', 'EMPTY', 'WN', 'WK', 'BR', 'BN', 'EMPTY', 'BN', 'EMPTY', 'BN', 'WQ', 'BQ', 'BR', 'BP', 'BP', 'WR', 'WK', 'WB', 'WN', 'WP', 'BB', 'WP', 'BP', 'BR', 'BR', 'EMPTY', 'BR', 'WK', 'BP', 'BP', 'EMPTY', 'WB', 'WN', 'WN', 'WQ', 'WB', 'BP', 'BQ', 'BN', 'WR', 'BK', 'BK', 'WK', 'EMPTY', 'BN', 'BP', 'WP', 'WR', 'WP', 'BK', 'WQ', 'BB', 'EMPTY', 'WB', 'WN', 'BQ', 'EMPTY', 'WR', 'BR', 'BQ', 'WN', 'BB', 'WB', 'WR', 'WQ', 'WP', 'WQ', 'BP', 'BP', 'BK', 'WB', 'WP', 'BN', 'EMPTY', 'BQ', 'WB', 'WP', 'BR', 'WB', 'WK', 'BB', 'BN', 'BN', 'WP', 'EMPTY', 'BQ', 'BB', 'WB', 'BR', 'WK', 'BB', 'WR', 'WR', 'WR', 'WB', 'EMPTY', 'BB', 'WQ', 'WQ', 'WQ', 'WQ', 'WR', 'WR', 'WN', 'WQ', 'BP', 'WQ', 'WB', 'BP', 'WB', 'BP', 'BK', 'WR', 'BN', 'BR', 'BK', 'WB', 'WN', 'WR', 'WP', 'WQ', 'BK', 'BK', 'WR', 'WB', 'BK', 'WR', 'WP', 'WB', 'WB', 'EMPTY', 'WB', 'WB', 'WN', 'BK', 'BB', 'WQ', 'BR', 'WQ', 'BQ', 'BK', 'EMPTY', 'WN', 'WQ', 'BK', 'WP', 'WK', 'BP', 'EMPTY', 'BR', 'BP', 'BR', 'WQ', 'WQ', 'BN', 'BR', 'EMPTY', 'EMPTY', 'WR', 'WQ', 'WN', 'WQ', 'WN', 'WB', 'WQ', 'WB', 'BP', 'BN', 'WB', 'BK', 'BB', 'EMPTY', 'BN', 'BP', 'BN', 'BP', 'WQ', 'BB', 'BB', 'WQ', 'BP', 'BB', 'BB', 'WR', 'WR', 'WK', 'WN', 'WB', 'BP', 'WP', 'EMPTY', 'WK', 'BB', 'WB', 'WP', 'WB', 'BP', 'WK', 'WN', 'WQ', 'BR', 'WK', 'BK', 'BN', 'BP', 'WR', 'BP', 'EMPTY', 'BN', 'BN', 'BR', 'EMPTY', 'BN', 'WP', 'BK', 'BP', 'WR', 'WK', 'WK', 'WQ', 'BR', 'WK', 'WN', 'BB', 'BP', 'WR', 'BQ', 'EMPTY', 'BN', 'WK', 'WN', 'BQ', 'WB', 'WK', 'WP', 'WQ', 'BK', 'BN', 'BK', 'EMPTY', 'WP', 'BR', 'WQ', 'BR', 'BN', 'BR', 'WB', 'BP', 'BQ', 'BR', 'WP', 'WR', 'WN', 'BQ', 'BQ', 'WR', 'WB', 'WR', 'BK', 'WQ', 'WQ', 'BB', 'WN', 'EMPTY', 'BK', 'BB', 'WR', 'WP', 'BB', 'WR', 'WN', 'WR', 'EMPTY', 'WR', 'BK', 'BQ', 'BN', 'WK', 'BN', 'EMPTY', 'BP', 'WR', 'BN', 'BN', 'WQ', 'BB', 'WR', 'EMPTY', 'WN', 'WN', 'WR', 'WR', 'BN', 'WR', 'BR', 'BP', 'WR', 'BN', 'BK', 'EMPTY', 'BB', 'BR', 'BQ', 'WQ', 'BP', 'BP', 'BP', 'WR', 'WB', 'BR', 'BN', 'WR', 'BK', 'BR', 'EMPTY', 'BP', 'BN', 'EMPTY', 'WK', 'BQ', 'BR', 'WN', 'WP', 'WQ', 'WQ', 'BK', 'WP', 'BB', 'BQ', 'BK', 'WP', 'WQ', 'WN', 'BN', 'BB', 'BN', 'BB', 'BB', 'BK', 'WK', 'WQ', 'EMPTY', 'EMPTY', 'BB', 'BP', 'BB', 'WK', 'WR', 'BR', 'WP', 'BB', 'BQ', 'BB', 'WR', 'WK', 'BR', 'BK', 'BN', 'BR', 'BB', 'BN', 'BP', 'BB', 'WK', 'WN', 'BB', 'EMPTY', 'WQ', 'WR', 'WP', 'BP', 'WK', 'WP', 'WK', 'WN', 'WK', 'BP', 'BP', 'WN', 'EMPTY', 'WN', 'EMPTY', 'BP', 'BN', 'EMPTY', 'WB', 'BB', 'BK', 'WP', 'WB', 'BQ', 'BP', 'WQ', 'WR', 'BR', 'BB', 'BK', 'WK', 'WQ', 'BB', 'BK', 'WP', 'EMPTY', 'WR', 'EMPTY', 'BN', 'WB', 'WR', 'BP', 'WR', 'BK', 'EMPTY', 'BP', 'BB', 'BP', 'WB', 'WQ', 'WP', 'BB', 'BK', 'EMPTY', 'WQ', 'EMPTY', 'WK', 'WP', 'WP', 'WN', 'BB', 'BR', 'WK', 'BP', 'BK', 'BN', 'BP', 'BR', 'BQ', 'BQ', 'BK', 'WN', 'BP', 'WK', 'BR', 'BQ', 'WP', 'BK', 'BK', 'WR', 'WN', 'WP', 'BB', 'WR', 'WR', 'WN', 'BN', 'WR', 'WB', 'WB', 'BN', 'BQ', 'WB', 'BN', 'BQ', 'BQ', 'BR', 'BP', 'WR', 'WQ', 'BP', 'BB', 'EMPTY', 'WK', 'BQ', 'WN', 'BN', 'BP', 'WB', 'BR', 'EMPTY', 'BQ', 'EMPTY', 'WR', 'BQ', 'BN', 'BB', 'WR', 'WQ', 'WB', 'BN']\n",
            "['BP', 'BB', 'WB', 'WN', 'BB', 'WQ', 'BK', 'WK', 'EMPTY', 'BQ', 'BR', 'WB', 'WP', 'WB', 'BP', 'WR', 'BR', 'EMPTY', 'BP', 'WN', 'WN', 'BK', 'BN', 'BB', 'BR', 'BQ', 'BN', 'BK', 'BQ', 'WB', 'WQ', 'BB', 'WB', 'BN', 'WK', 'WQ', 'WK', 'WN', 'WB', 'EMPTY', 'BR', 'BB', 'BQ', 'BN', 'BK', 'BR', 'WP', 'BR', 'WQ', 'BB', 'WP', 'BB', 'BP', 'EMPTY', 'WN', 'WK', 'BR', 'BK', 'EMPTY', 'BN', 'EMPTY', 'BN', 'WQ', 'BR', 'BR', 'BP', 'BP', 'WR', 'WK', 'WB', 'WN', 'WP', 'BB', 'WP', 'BP', 'BR', 'BR', 'EMPTY', 'BR', 'WK', 'BP', 'BP', 'EMPTY', 'WB', 'WN', 'WN', 'WQ', 'WB', 'BP', 'BQ', 'BQ', 'WR', 'BK', 'BK', 'WK', 'BQ', 'BN', 'BP', 'WP', 'WR', 'WP', 'BK', 'WK', 'BB', 'EMPTY', 'WB', 'WN', 'BQ', 'EMPTY', 'WR', 'BR', 'BQ', 'WN', 'BP', 'WB', 'WR', 'WQ', 'WP', 'WQ', 'BP', 'BP', 'BK', 'WB', 'WP', 'BN', 'EMPTY', 'BQ', 'WP', 'WP', 'BR', 'WP', 'WK', 'BB', 'BN', 'BN', 'WP', 'EMPTY', 'BR', 'BP', 'WB', 'BB', 'WK', 'BN', 'WR', 'WR', 'WR', 'WB', 'EMPTY', 'BB', 'WB', 'WK', 'WQ', 'WQ', 'WR', 'WR', 'WN', 'WQ', 'BP', 'WQ', 'WB', 'BP', 'WB', 'BP', 'BK', 'WR', 'BN', 'BR', 'BK', 'WP', 'WN', 'WR', 'WP', 'WQ', 'BK', 'BK', 'WR', 'WB', 'BK', 'WR', 'WP', 'WB', 'WB', 'EMPTY', 'WB', 'WB', 'WN', 'BQ', 'BB', 'WQ', 'BR', 'WQ', 'BN', 'BK', 'EMPTY', 'WN', 'WQ', 'BK', 'WP', 'WK', 'BP', 'EMPTY', 'BR', 'BP', 'BR', 'WQ', 'WQ', 'BN', 'BR', 'EMPTY', 'EMPTY', 'WR', 'WQ', 'WN', 'WQ', 'WN', 'WB', 'WB', 'WB', 'BP', 'BN', 'WN', 'BK', 'BB', 'BK', 'BR', 'BB', 'BQ', 'BP', 'WB', 'BB', 'BB', 'WQ', 'BP', 'BB', 'BP', 'WR', 'WR', 'WQ', 'WN', 'WB', 'BP', 'WP', 'EMPTY', 'WK', 'BB', 'WB', 'WP', 'WB', 'BP', 'WK', 'WN', 'WQ', 'BN', 'WK', 'BQ', 'BN', 'BQ', 'WR', 'BP', 'EMPTY', 'BN', 'BN', 'BR', 'EMPTY', 'BN', 'WP', 'BK', 'BP', 'WR', 'WQ', 'WK', 'WQ', 'BR', 'WK', 'WN', 'BB', 'BP', 'WR', 'BQ', 'EMPTY', 'BN', 'WK', 'WN', 'BK', 'WB', 'WK', 'WP', 'WB', 'BK', 'BN', 'BK', 'EMPTY', 'WP', 'BR', 'WB', 'BR', 'BN', 'BN', 'WB', 'BB', 'BQ', 'BR', 'WP', 'WR', 'WN', 'BQ', 'BK', 'WR', 'WB', 'WR', 'BK', 'WQ', 'WQ', 'BB', 'WN', 'EMPTY', 'BK', 'BB', 'WR', 'WP', 'BQ', 'WR', 'WN', 'WR', 'EMPTY', 'WR', 'BK', 'BQ', 'BN', 'WK', 'BN', 'EMPTY', 'BB', 'WR', 'BN', 'BN', 'WQ', 'BB', 'WR', 'EMPTY', 'WN', 'WN', 'WR', 'WR', 'BB', 'WR', 'BR', 'BP', 'WR', 'BB', 'BB', 'EMPTY', 'BB', 'BR', 'BB', 'WQ', 'BK', 'BP', 'BP', 'WR', 'WB', 'BR', 'BR', 'WR', 'BK', 'BR', 'EMPTY', 'BP', 'BB', 'EMPTY', 'WK', 'BB', 'BR', 'WN', 'WP', 'WQ', 'WQ', 'BQ', 'WP', 'BB', 'BN', 'BQ', 'WP', 'WQ', 'WN', 'BN', 'BN', 'BN', 'BP', 'BB', 'BK', 'WK', 'WQ', 'WK', 'EMPTY', 'BR', 'BB', 'BP', 'WK', 'WR', 'BR', 'WP', 'BK', 'BR', 'BB', 'WR', 'WK', 'BR', 'BK', 'BN', 'BR', 'BP', 'BN', 'BP', 'BB', 'WK', 'WN', 'BB', 'EMPTY', 'WQ', 'WR', 'WP', 'BP', 'WK', 'WP', 'WK', 'WN', 'WK', 'BP', 'BP', 'WN', 'EMPTY', 'WN', 'EMPTY', 'BP', 'BN', 'EMPTY', 'BB', 'BB', 'BK', 'WP', 'WB', 'BQ', 'BP', 'WB', 'WR', 'BR', 'BP', 'WN', 'WK', 'WK', 'BN', 'BK', 'WP', 'EMPTY', 'WR', 'EMPTY', 'BK', 'WB', 'WR', 'BP', 'WR', 'BK', 'EMPTY', 'BP', 'BK', 'BP', 'WB', 'WK', 'WP', 'BP', 'BK', 'EMPTY', 'WQ', 'EMPTY', 'WK', 'WP', 'WP', 'WN', 'BB', 'BR', 'WK', 'BP', 'BK', 'BN', 'BN', 'BR', 'BQ', 'BQ', 'BK', 'WN', 'BP', 'WK', 'BR', 'BB', 'WP', 'BQ', 'BK', 'WR', 'WN', 'WP', 'BB', 'WR', 'WR', 'WN', 'BN', 'WN', 'WB', 'WB', 'BB', 'BQ', 'WB', 'BR', 'BN', 'BR', 'BR', 'BB', 'WR', 'WK', 'BP', 'BB', 'EMPTY', 'WK', 'BQ', 'WN', 'BN', 'BP', 'WB', 'BR', 'EMPTY', 'BQ', 'EMPTY', 'WR', 'BK', 'BN', 'BB', 'WR', 'WK', 'WB', 'BN']\n"
          ]
        }
      ],
      "source": [
        "class_names = test_gen.class_names\n",
        "\n",
        "T = []\n",
        "images = []\n",
        "P = []\n",
        "for images,labels in test_gen:\n",
        "  y = model.predict(images, verbose=2)\n",
        "  y = np.argmax(y,axis=1).tolist()\n",
        "  y_t = labels.numpy().tolist()\n",
        "  T = T + y_t\n",
        "  P = P + y\n",
        "  \n",
        "# get predictions\n",
        "newY = []\n",
        "for i in P:\n",
        "  newY.append(class_names[i])\n",
        "\n",
        "newYT = []\n",
        "for i in T:\n",
        "  newYT.append(class_names[i])\n",
        "\n",
        "print(newY)\n",
        "print(newYT)\n",
        "\n",
        "# compute confusion matrix with `tf` \n",
        "confusion = tf.math.confusion_matrix(\n",
        "              labels = T,      # get trule labels \n",
        "              predictions = P,  # get predicted labels \n",
        "              num_classes=13)"
      ]
    },
    {
      "cell_type": "code",
      "execution_count": 15,
      "metadata": {
        "colab": {
          "base_uri": "https://localhost:8080/",
          "height": 714
        },
        "id": "CkNUwHuWiHj9",
        "outputId": "e7440682-4b69-4c41-e62b-529a3dbe21f6"
      },
      "outputs": [
        {
          "output_type": "display_data",
          "data": {
            "text/plain": [
              "<Figure size 1296x864 with 2 Axes>"
            ],
            "image/png": "[encoded data removed]"
          },
          "metadata": {
            "needs_background": "light"
          }
        }
      ],
      "source": [
        "import seaborn as sns \n",
        "import pandas as pd \n",
        "\n",
        "cm = pd.DataFrame(confusion.numpy(), # use .numpy(), because now confusion is tensor\n",
        "               class_names,class_names)\n",
        "cm.index.name = 'Actual'\n",
        "cm.columns.name = 'Predicted'\n",
        "plt.figure(figsize = (18,12))\n",
        "sns.heatmap(cm, annot=True, annot_kws={\"size\": 14}) # font size\n",
        "plt.show()"
      ]
    }
  ],
  "metadata": {
    "accelerator": "GPU",
    "colab": {
      "collapsed_sections": [],
      "name": "o.ipynb",
      "provenance": []
    },
    "kernelspec": {
      "display_name": "Python 3",
      "name": "python3"
    }
  },
  "nbformat": 4,
  "nbformat_minor": 0
}