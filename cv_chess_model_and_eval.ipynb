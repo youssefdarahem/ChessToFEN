{
  "cells": [
    {
      "cell_type": "code",
      "execution_count": 1,
      "metadata": {
        "colab": {
          "base_uri": "https://localhost:8080/",
          "height": 34
        },
        "colab_type": "code",
        "id": "FugnPep-wemo",
        "outputId": "8ab2398e-e7f3-4aec-afe4-fbc9f7bbbd15"
      },
      "outputs": [
        {
          "name": "stdout",
          "output_type": "stream",
          "text": [
            "Mounted at /content/drive\n"
          ]
        }
      ],
      "source": [
        "from google.colab import drive\n",
        "drive.mount('/content/drive')"
      ]
    },
    {
      "cell_type": "code",
      "execution_count": 2,
      "metadata": {
        "colab": {},
        "colab_type": "code",
        "id": "8ldZe6OlwiuP"
      },
      "outputs": [],
      "source": [
        "import numpy as np\n",
        "import tensorflow as tf\n",
        "from tensorflow import keras\n",
        "from tensorflow.keras import layers"
      ]
    },
    {
      "cell_type": "code",
      "execution_count": 3,
      "metadata": {
        "colab": {},
        "colab_type": "code",
        "id": "Z-NS0l7Jwyb2"
      },
      "outputs": [],
      "source": [
        "folder = '/content/drive/My Drive/Colab Data/public_data'\n",
        "image_size = (128, 128)\n",
        "batch_size = 32"
      ]
    },
    {
      "cell_type": "code",
      "execution_count": 4,
      "metadata": {
        "colab": {},
        "colab_type": "code",
        "id": "-OeAL7oFyWnO"
      },
      "outputs": [],
      "source": [
        "from keras.preprocessing.image import ImageDataGenerator\n",
        "\n",
        "datagen = ImageDataGenerator(\n",
        "        rotation_range=5,\n",
        "        # width_shift_range=0.1,\n",
        "        # height_shift_range=0.1,\n",
        "        rescale=1./255,\n",
        "        horizontal_flip=True,\n",
        "        fill_mode='nearest')\n",
        "\n",
        "test_datagen = ImageDataGenerator(rescale=1./255)"
      ]
    },
    {
      "cell_type": "code",
      "execution_count": 5,
      "metadata": {
        "colab": {
          "base_uri": "https://localhost:8080/",
          "height": 51
        },
        "colab_type": "code",
        "id": "5FzaqjxD0cwd",
        "outputId": "1e647b4c-c0fb-4e4f-ea55-157075190182"
      },
      "outputs": [
        {
          "name": "stdout",
          "output_type": "stream",
          "text": [
            "Found 1605 images belonging to 13 classes.\n",
            "Found 800 images belonging to 13 classes.\n"
          ]
        }
      ],
      "source": [
        "train_gen = datagen.flow_from_directory(\n",
        "    folder + '/train',\n",
        "    target_size = image_size,\n",
        "    batch_size = batch_size,\n",
        "    class_mode = 'categorical',\n",
        "    color_mode = 'rgb',\n",
        "    shuffle=True  \n",
        ")\n",
        "\n",
        "test_gen = test_datagen.flow_from_directory(\n",
        "    folder + '/test',\n",
        "    target_size = image_size,\n",
        "    batch_size = batch_size,\n",
        "    class_mode = 'categorical',\n",
        "    color_mode = 'rgb',\n",
        "    shuffle=False \n",
        ")"
      ]
    },
    {
      "cell_type": "code",
      "execution_count": 6,
      "metadata": {
        "colab": {
          "base_uri": "https://localhost:8080/",
          "height": 969
        },
        "colab_type": "code",
        "id": "Plq6_55C1MPc",
        "outputId": "b943a7e2-a63c-416c-dcad-93e89d5c6850"
      },
      "outputs": [
        {
          "name": "stdout",
          "output_type": "stream",
          "text": [
            "Downloading data from https://storage.googleapis.com/tensorflow/keras-applications/vgg16/vgg16_weights_tf_dim_ordering_tf_kernels.h5\n",
            "553467904/553467096 [==============================] - 4s 0us/step\n",
            "Model: \"vgg16\"\n",
            "_________________________________________________________________\n",
            "Layer (type)                 Output Shape              Param #   \n",
            "=================================================================\n",
            "input_1 (InputLayer)         [(None, 224, 224, 3)]     0         \n",
            "_________________________________________________________________\n",
            "block1_conv1 (Conv2D)        (None, 224, 224, 64)      1792      \n",
            "_________________________________________________________________\n",
            "block1_conv2 (Conv2D)        (None, 224, 224, 64)      36928     \n",
            "_________________________________________________________________\n",
            "block1_pool (MaxPooling2D)   (None, 112, 112, 64)      0         \n",
            "_________________________________________________________________\n",
            "block2_conv1 (Conv2D)        (None, 112, 112, 128)     73856     \n",
            "_________________________________________________________________\n",
            "block2_conv2 (Conv2D)        (None, 112, 112, 128)     147584    \n",
            "_________________________________________________________________\n",
            "block2_pool (MaxPooling2D)   (None, 56, 56, 128)       0         \n",
            "_________________________________________________________________\n",
            "block3_conv1 (Conv2D)        (None, 56, 56, 256)       295168    \n",
            "_________________________________________________________________\n",
            "block3_conv2 (Conv2D)        (None, 56, 56, 256)       590080    \n",
            "_________________________________________________________________\n",
            "block3_conv3 (Conv2D)        (None, 56, 56, 256)       590080    \n",
            "_________________________________________________________________\n",
            "block3_pool (MaxPooling2D)   (None, 28, 28, 256)       0         \n",
            "_________________________________________________________________\n",
            "block4_conv1 (Conv2D)        (None, 28, 28, 512)       1180160   \n",
            "_________________________________________________________________\n",
            "block4_conv2 (Conv2D)        (None, 28, 28, 512)       2359808   \n",
            "_________________________________________________________________\n",
            "block4_conv3 (Conv2D)        (None, 28, 28, 512)       2359808   \n",
            "_________________________________________________________________\n",
            "block4_pool (MaxPooling2D)   (None, 14, 14, 512)       0         \n",
            "_________________________________________________________________\n",
            "block5_conv1 (Conv2D)        (None, 14, 14, 512)       2359808   \n",
            "_________________________________________________________________\n",
            "block5_conv2 (Conv2D)        (None, 14, 14, 512)       2359808   \n",
            "_________________________________________________________________\n",
            "block5_conv3 (Conv2D)        (None, 14, 14, 512)       2359808   \n",
            "_________________________________________________________________\n",
            "block5_pool (MaxPooling2D)   (None, 7, 7, 512)         0         \n",
            "_________________________________________________________________\n",
            "flatten (Flatten)            (None, 25088)             0         \n",
            "_________________________________________________________________\n",
            "fc1 (Dense)                  (None, 4096)              102764544 \n",
            "_________________________________________________________________\n",
            "fc2 (Dense)                  (None, 4096)              16781312  \n",
            "_________________________________________________________________\n",
            "predictions (Dense)          (None, 1000)              4097000   \n",
            "=================================================================\n",
            "Total params: 138,357,544\n",
            "Trainable params: 138,357,544\n",
            "Non-trainable params: 0\n",
            "_________________________________________________________________\n"
          ]
        }
      ],
      "source": [
        "from keras.applications.vgg16 import VGG16\n",
        "from keras.applications.imagenet_utils import decode_predictions\n",
        "\n",
        "model = VGG16(weights='imagenet')\n",
        "model.summary()"
      ]
    },
    {
      "cell_type": "code",
      "execution_count": 7,
      "metadata": {
        "colab": {
          "base_uri": "https://localhost:8080/",
          "height": 51
        },
        "colab_type": "code",
        "id": "7J1btS1W3JBP",
        "outputId": "8fcb326b-acc0-46d8-ecbe-dd45978f1aa0"
      },
      "outputs": [
        {
          "name": "stdout",
          "output_type": "stream",
          "text": [
            "Downloading data from https://storage.googleapis.com/tensorflow/keras-applications/vgg16/vgg16_weights_tf_dim_ordering_tf_kernels_notop.h5\n",
            "58892288/58889256 [==============================] - 0s 0us/step\n"
          ]
        }
      ],
      "source": [
        "from keras.models import Sequential\n",
        "from keras.layers import Dense, Conv2D, MaxPooling2D, Flatten\n",
        "from keras.models import Model\n",
        "\n",
        "base_model = VGG16(weights='imagenet', include_top=False, input_shape=(224,224,3)) \n",
        " \n",
        "# Freeze convolutional layers\n",
        "for layer in base_model.layers:\n",
        "    layer.trainable = False    \n",
        "\n",
        "# Establish new fully connected block\n",
        "x = base_model.output\n",
        "x = Flatten()(x)  # flatten from convolution tensor output  \n",
        "x = Dense(500, activation='relu')(x) # number of layers and units are hyperparameters, as usual\n",
        "x = Dense(500, activation='relu')(x)\n",
        "predictions = Dense(13, activation='softmax')(x) # should match # of classes predicted\n",
        "\n",
        "# this is the model we will train\n",
        "model = Model(inputs=base_model.input, outputs=predictions)\n",
        "model.compile(optimizer='adam', loss='categorical_crossentropy', metrics=['categorical_accuracy'])"
      ]
    },
    {
      "cell_type": "code",
      "execution_count": 8,
      "metadata": {
        "colab": {
          "base_uri": "https://localhost:8080/",
          "height": 377
        },
        "colab_type": "code",
        "id": "NWwMLiUu3Q34",
        "outputId": "d50fce4d-5ccb-4cbf-e5ba-da12835bbc48"
      },
      "outputs": [
        {
          "name": "stdout",
          "output_type": "stream",
          "text": [
            "Epoch 1/10\n",
            "51/51 [==============================] - 673s 13s/step - loss: 2.6884 - categorical_accuracy: 0.2673 - val_loss: 1.4787 - val_categorical_accuracy: 0.5450\n",
            "Epoch 2/10\n",
            "51/51 [==============================] - 22s 433ms/step - loss: 1.1020 - categorical_accuracy: 0.6249 - val_loss: 0.8362 - val_categorical_accuracy: 0.7050\n",
            "Epoch 3/10\n",
            "51/51 [==============================] - 22s 433ms/step - loss: 0.6995 - categorical_accuracy: 0.7601 - val_loss: 0.7872 - val_categorical_accuracy: 0.7237\n",
            "Epoch 4/10\n",
            "51/51 [==============================] - 22s 430ms/step - loss: 0.4342 - categorical_accuracy: 0.8579 - val_loss: 0.5480 - val_categorical_accuracy: 0.8163\n",
            "Epoch 5/10\n",
            "51/51 [==============================] - 22s 430ms/step - loss: 0.2611 - categorical_accuracy: 0.9159 - val_loss: 0.5692 - val_categorical_accuracy: 0.8037\n",
            "Epoch 6/10\n",
            "51/51 [==============================] - 22s 430ms/step - loss: 0.1994 - categorical_accuracy: 0.9346 - val_loss: 0.4509 - val_categorical_accuracy: 0.8537\n",
            "Epoch 7/10\n",
            "51/51 [==============================] - 22s 429ms/step - loss: 0.2150 - categorical_accuracy: 0.9296 - val_loss: 0.5307 - val_categorical_accuracy: 0.8325\n",
            "Epoch 8/10\n",
            "51/51 [==============================] - 22s 430ms/step - loss: 0.1685 - categorical_accuracy: 0.9489 - val_loss: 0.6698 - val_categorical_accuracy: 0.7825\n",
            "Epoch 9/10\n",
            "51/51 [==============================] - 22s 430ms/step - loss: 0.1472 - categorical_accuracy: 0.9458 - val_loss: 0.4455 - val_categorical_accuracy: 0.8675\n",
            "Epoch 10/10\n",
            "51/51 [==============================] - 22s 428ms/step - loss: 0.0988 - categorical_accuracy: 0.9701 - val_loss: 0.4281 - val_categorical_accuracy: 0.8850\n"
          ]
        }
      ],
      "source": [
        "epochs = 10\n",
        "\n",
        "history = model.fit(\n",
        "    train_gen, \n",
        "    epochs=epochs,\n",
        "    verbose = 1,\n",
        "    validation_data=test_gen\n",
        "    )\n",
        "model.save_weights('model_VGG16.h5') "
      ]
    },
    {
      "cell_type": "code",
      "execution_count": 9,
      "metadata": {
        "colab": {
          "base_uri": "https://localhost:8080/",
          "height": 349
        },
        "colab_type": "code",
        "id": "w2oNGGKeLo5n",
        "outputId": "11cfc189-0a0a-4c48-c3ba-74b77dce29e4"
      },
      "outputs": [
        {
          "name": "stderr",
          "output_type": "stream",
          "text": [
            "/usr/local/lib/python3.6/dist-packages/statsmodels/tools/_testing.py:19: FutureWarning: pandas.util.testing is deprecated. Use the functions in the public API at pandas.testing instead.\n",
            "  import pandas.util.testing as tm\n"
          ]
        },
        {
          "data": {
            "image/png": "[encoded data removed]",
            "text/plain": [
              "<Figure size 432x288 with 1 Axes>"
            ]
          },
          "metadata": {
            "needs_background": "light",
            "tags": []
          },
          "output_type": "display_data"
        }
      ],
      "source": [
        "import seaborn as sn\n",
        "import matplotlib.pyplot as plt\n",
        "import pandas as pd\n",
        "\n",
        "plt.plot(history.history['categorical_accuracy'], 'ko')\n",
        "plt.plot(history.history['val_categorical_accuracy'], 'b')\n",
        "\n",
        "plt.title('Accuracy vs Training Epoch')\n",
        "plt.xlabel('Epoch')\n",
        "plt.ylabel('Accuracy')\n",
        "plt.legend(['Train', 'Validation']);"
      ]
    },
    {
      "cell_type": "code",
      "execution_count": 10,
      "metadata": {
        "colab": {
          "base_uri": "https://localhost:8080/",
          "height": 943
        },
        "colab_type": "code",
        "id": "3P7FHX05MLUD",
        "outputId": "0c7987d1-75fb-4449-a8e6-5f5e07514289"
      },
      "outputs": [
        {
          "name": "stdout",
          "output_type": "stream",
          "text": [
            "WARNING:tensorflow:From <ipython-input-10-fdaafb959ae8>:6: Model.predict_generator (from tensorflow.python.keras.engine.training) is deprecated and will be removed in a future version.\n",
            "Instructions for updating:\n",
            "Please use Model.predict, which supports generators.\n",
            "0.885\n"
          ]
        },
        {
          "data": {
            "text/plain": [
              "<matplotlib.axes._subplots.AxesSubplot at 0x7f5f72e40a90>"
            ]
          },
          "execution_count": 10,
          "metadata": {
            "tags": []
          },
          "output_type": "execute_result"
        },
        {
          "data": {
            "image/png": "[encoded data removed]",
            "text/plain": [
              "<Figure size 1440x1008 with 2 Axes>"
            ]
          },
          "metadata": {
            "needs_background": "light",
            "tags": []
          },
          "output_type": "display_data"
        }
      ],
      "source": [
        "from sklearn.metrics import classification_report, confusion_matrix\n",
        "\n",
        "target_names = ['BB', 'BK', 'BN', 'BP', 'BQ', 'BR', 'Empty', 'WB', 'WK', 'WN', 'WP', 'WQ', 'WR']\n",
        "\n",
        "test_gen.reset()\n",
        "Y_pred = model.predict_generator(test_gen)\n",
        "classes = test_gen.classes[test_gen.index_array]\n",
        "y_pred = np.argmax(Y_pred, axis= -1)\n",
        "print(sum(y_pred==classes)/800)\n",
        "\n",
        "\n",
        "data = confusion_matrix(classes, y_pred)\n",
        "df_cm = pd.DataFrame(data, columns=target_names, index = target_names)\n",
        "df_cm.index.name = 'Actual'\n",
        "df_cm.columns.name = 'Predicted'\n",
        "plt.figure(figsize = (20,14))\n",
        "sn.set(font_scale=1.4)#for label size\n",
        "sn.heatmap(df_cm, cmap=\"Blues\", annot=True,annot_kws={\"size\": 16})# font size"
      ]
    },
    {
      "cell_type": "code",
      "execution_count": 11,
      "metadata": {
        "colab": {
          "base_uri": "https://localhost:8080/",
          "height": 612
        },
        "colab_type": "code",
        "id": "RwuWZwvy4VcS",
        "outputId": "28084712-1526-44c5-cd52-0f74b0d4dc84"
      },
      "outputs": [
        {
          "name": "stdout",
          "output_type": "stream",
          "text": [
            "Confusion Matrix\n",
            "[[60  0  0  1  3  2  0  0  0  0  0  0  0]\n",
            " [ 1 27  0  0  5  1  0  0  0  0  0  0  0]\n",
            " [ 2  0 46  0  3  6  0  0  0  0  0  0  0]\n",
            " [ 2  0  0 60  0  1  1  0  0  0  0  0  0]\n",
            " [ 0  2  1  0 59  0  0  0  0  0  0  0  0]\n",
            " [ 1  0  1  0  3 60  0  0  0  0  0  0  0]\n",
            " [ 0  0  0  0  0  0 71  0  0  0  0  0  0]\n",
            " [ 0  0  0  0  0  0  0 53  0 13  1  1  4]\n",
            " [ 0  0  0  0  0  0  0  3 29  1  0  4  0]\n",
            " [ 0  0  0  0  0  0  0  0  0 64  1  0  0]\n",
            " [ 0  0  0  0  0  0  0  0  0  4 64  0  1]\n",
            " [ 0  0  0  0  0  0  0  1  4  3  0 60  0]\n",
            " [ 0  0  0  0  0  0  0  0  1 14  0  0 55]]\n",
            "Classification Report\n",
            "              precision    recall  f1-score   support\n",
            "\n",
            "          BB       0.91      0.91      0.91        66\n",
            "          BK       0.93      0.79      0.86        34\n",
            "          BN       0.96      0.81      0.88        57\n",
            "          BP       0.98      0.94      0.96        64\n",
            "          BQ       0.81      0.95      0.87        62\n",
            "          BR       0.86      0.92      0.89        65\n",
            "       Empty       0.99      1.00      0.99        71\n",
            "          WB       0.93      0.74      0.82        72\n",
            "          WK       0.85      0.78      0.82        37\n",
            "          WN       0.65      0.98      0.78        65\n",
            "          WP       0.97      0.93      0.95        69\n",
            "          WQ       0.92      0.88      0.90        68\n",
            "          WR       0.92      0.79      0.85        70\n",
            "\n",
            "    accuracy                           0.89       800\n",
            "   macro avg       0.90      0.88      0.88       800\n",
            "weighted avg       0.90      0.89      0.89       800\n",
            "\n"
          ]
        }
      ],
      "source": [
        "print('Confusion Matrix')\n",
        "print(data)\n",
        "print('Classification Report')\n",
        "print(classification_report(test_gen.classes[test_gen.index_array], y_pred, target_names=target_names))"
      ]
    },
    {
      "cell_type": "code",
      "execution_count": 12,
      "metadata": {
        "colab": {
          "base_uri": "https://localhost:8080/",
          "height": 1000
        },
        "colab_type": "code",
        "id": "u3bYZ_36oVv-",
        "outputId": "695ad3bf-8d90-41fe-b6eb-481488eb5380"
      },
      "outputs": [
        {
          "name": "stdout",
          "output_type": "stream",
          "text": [
            "Downloading data from https://storage.googleapis.com/tensorflow/keras-applications/vgg19/vgg19_weights_tf_dim_ordering_tf_kernels.h5\n",
            "574717952/574710816 [==============================] - 3s 0us/step\n",
            "Model: \"vgg19\"\n",
            "_________________________________________________________________\n",
            "Layer (type)                 Output Shape              Param #   \n",
            "=================================================================\n",
            "input_3 (InputLayer)         [(None, 224, 224, 3)]     0         \n",
            "_________________________________________________________________\n",
            "block1_conv1 (Conv2D)        (None, 224, 224, 64)      1792      \n",
            "_________________________________________________________________\n",
            "block1_conv2 (Conv2D)        (None, 224, 224, 64)      36928     \n",
            "_________________________________________________________________\n",
            "block1_pool (MaxPooling2D)   (None, 112, 112, 64)      0         \n",
            "_________________________________________________________________\n",
            "block2_conv1 (Conv2D)        (None, 112, 112, 128)     73856     \n",
            "_________________________________________________________________\n",
            "block2_conv2 (Conv2D)        (None, 112, 112, 128)     147584    \n",
            "_________________________________________________________________\n",
            "block2_pool (MaxPooling2D)   (None, 56, 56, 128)       0         \n",
            "_________________________________________________________________\n",
            "block3_conv1 (Conv2D)        (None, 56, 56, 256)       295168    \n",
            "_________________________________________________________________\n",
            "block3_conv2 (Conv2D)        (None, 56, 56, 256)       590080    \n",
            "_________________________________________________________________\n",
            "block3_conv3 (Conv2D)        (None, 56, 56, 256)       590080    \n",
            "_________________________________________________________________\n",
            "block3_conv4 (Conv2D)        (None, 56, 56, 256)       590080    \n",
            "_________________________________________________________________\n",
            "block3_pool (MaxPooling2D)   (None, 28, 28, 256)       0         \n",
            "_________________________________________________________________\n",
            "block4_conv1 (Conv2D)        (None, 28, 28, 512)       1180160   \n",
            "_________________________________________________________________\n",
            "block4_conv2 (Conv2D)        (None, 28, 28, 512)       2359808   \n",
            "_________________________________________________________________\n",
            "block4_conv3 (Conv2D)        (None, 28, 28, 512)       2359808   \n",
            "_________________________________________________________________\n",
            "block4_conv4 (Conv2D)        (None, 28, 28, 512)       2359808   \n",
            "_________________________________________________________________\n",
            "block4_pool (MaxPooling2D)   (None, 14, 14, 512)       0         \n",
            "_________________________________________________________________\n",
            "block5_conv1 (Conv2D)        (None, 14, 14, 512)       2359808   \n",
            "_________________________________________________________________\n",
            "block5_conv2 (Conv2D)        (None, 14, 14, 512)       2359808   \n",
            "_________________________________________________________________\n",
            "block5_conv3 (Conv2D)        (None, 14, 14, 512)       2359808   \n",
            "_________________________________________________________________\n",
            "block5_conv4 (Conv2D)        (None, 14, 14, 512)       2359808   \n",
            "_________________________________________________________________\n",
            "block5_pool (MaxPooling2D)   (None, 7, 7, 512)         0         \n",
            "_________________________________________________________________\n",
            "flatten (Flatten)            (None, 25088)             0         \n",
            "_________________________________________________________________\n",
            "fc1 (Dense)                  (None, 4096)              102764544 \n",
            "_________________________________________________________________\n",
            "fc2 (Dense)                  (None, 4096)              16781312  \n",
            "_________________________________________________________________\n",
            "predictions (Dense)          (None, 1000)              4097000   \n",
            "=================================================================\n",
            "Total params: 143,667,240\n",
            "Trainable params: 143,667,240\n",
            "Non-trainable params: 0\n",
            "_________________________________________________________________\n"
          ]
        }
      ],
      "source": [
        "from keras.applications.vgg19 import VGG19\n",
        "from keras.applications.imagenet_utils import decode_predictions\n",
        "\n",
        "model_two = VGG19(weights='imagenet')\n",
        "model_two.summary()"
      ]
    },
    {
      "cell_type": "code",
      "execution_count": 13,
      "metadata": {
        "colab": {
          "base_uri": "https://localhost:8080/",
          "height": 51
        },
        "colab_type": "code",
        "id": "wopOBbpwvftf",
        "outputId": "d6022a56-f83c-4e00-b61c-07c50c13a7fc"
      },
      "outputs": [
        {
          "name": "stdout",
          "output_type": "stream",
          "text": [
            "Downloading data from https://storage.googleapis.com/tensorflow/keras-applications/vgg19/vgg19_weights_tf_dim_ordering_tf_kernels_notop.h5\n",
            "80142336/80134624 [==============================] - 0s 0us/step\n"
          ]
        }
      ],
      "source": [
        "from keras.models import Sequential\n",
        "from keras.layers import Dense, Conv2D, MaxPooling2D, Flatten\n",
        "from keras.models import Model\n",
        "\n",
        "base_model_two = VGG19(weights='imagenet', include_top=False, input_shape=(224,224,3)) \n",
        " \n",
        "# Freeze convolutional layers\n",
        "for layer in base_model_two.layers:\n",
        "    layer.trainable = False    \n",
        "\n",
        "# Establish new fully connected block\n",
        "x = base_model_two.output\n",
        "x = Flatten()(x)  # flatten from convolution tensor output  \n",
        "x = Dense(500, activation='relu')(x) # number of layers and units are hyperparameters, as usual\n",
        "x = Dense(500, activation='relu')(x)\n",
        "predictions = Dense(13, activation='softmax')(x) # should match # of classes predicted\n",
        "\n",
        "# this is the model we will train\n",
        "model_two = Model(inputs=base_model_two.input, outputs=predictions)\n",
        "model_two.compile(optimizer='adam', loss='categorical_crossentropy', metrics=['accuracy'])"
      ]
    },
    {
      "cell_type": "code",
      "execution_count": 14,
      "metadata": {
        "colab": {
          "base_uri": "https://localhost:8080/",
          "height": 357
        },
        "colab_type": "code",
        "id": "X0nH7g1Zv3c_",
        "outputId": "6332c1db-a56d-4e60-92fd-391919a60348"
      },
      "outputs": [
        {
          "name": "stdout",
          "output_type": "stream",
          "text": [
            "Epoch 1/10\n",
            "51/51 [==============================] - 23s 454ms/step - loss: 2.7242 - accuracy: 0.2380 - val_loss: 1.8447 - val_accuracy: 0.3500\n",
            "Epoch 2/10\n",
            "51/51 [==============================] - 23s 451ms/step - loss: 1.3450 - accuracy: 0.5464 - val_loss: 1.0877 - val_accuracy: 0.6275\n",
            "Epoch 3/10\n",
            "51/51 [==============================] - 23s 447ms/step - loss: 0.8556 - accuracy: 0.7065 - val_loss: 0.8117 - val_accuracy: 0.7138\n",
            "Epoch 4/10\n",
            "51/51 [==============================] - 23s 450ms/step - loss: 0.7130 - accuracy: 0.7514 - val_loss: 0.8722 - val_accuracy: 0.6737\n",
            "Epoch 5/10\n",
            "51/51 [==============================] - 23s 452ms/step - loss: 0.5393 - accuracy: 0.8150 - val_loss: 0.6614 - val_accuracy: 0.7600\n",
            "Epoch 6/10\n",
            "51/51 [==============================] - 23s 455ms/step - loss: 0.4539 - accuracy: 0.8442 - val_loss: 0.7770 - val_accuracy: 0.7375\n",
            "Epoch 7/10\n",
            "51/51 [==============================] - 23s 447ms/step - loss: 0.3024 - accuracy: 0.8978 - val_loss: 0.6327 - val_accuracy: 0.7875\n",
            "Epoch 8/10\n",
            "51/51 [==============================] - 23s 450ms/step - loss: 0.4077 - accuracy: 0.8673 - val_loss: 0.6253 - val_accuracy: 0.7862\n",
            "Epoch 9/10\n",
            "51/51 [==============================] - 23s 448ms/step - loss: 0.3182 - accuracy: 0.8847 - val_loss: 0.5462 - val_accuracy: 0.8200\n",
            "Epoch 10/10\n",
            "51/51 [==============================] - 23s 448ms/step - loss: 0.2018 - accuracy: 0.9389 - val_loss: 0.6776 - val_accuracy: 0.7725\n"
          ]
        }
      ],
      "source": [
        "epochs = 10\n",
        "\n",
        "history = model_two.fit(\n",
        "    train_gen, \n",
        "    epochs=epochs,\n",
        "    verbose = 1,\n",
        "    validation_data=test_gen\n",
        "    )\n",
        "model.save_weights('model_VGG19.h5') "
      ]
    },
    {
      "cell_type": "code",
      "execution_count": 15,
      "metadata": {
        "colab": {
          "base_uri": "https://localhost:8080/",
          "height": 629
        },
        "colab_type": "code",
        "id": "aI_NxGBNwxaU",
        "outputId": "aeb9c5fe-7073-4339-afcc-b737e8604fb6"
      },
      "outputs": [
        {
          "name": "stdout",
          "output_type": "stream",
          "text": [
            "0.7725\n",
            "Confusion Matrix\n",
            "[[46  0  6  8  6  0  0  0  0  0  0  0  0]\n",
            " [ 0 21  0  0 11  1  0  0  1  0  0  0  0]\n",
            " [ 2  0 51  1  1  1  0  0  0  1  0  0  0]\n",
            " [ 0  0  1 58  1  0  1  0  0  0  3  0  0]\n",
            " [ 0  2  0  0 59  0  0  0  0  1  0  0  0]\n",
            " [ 5  0 33  2  9 14  1  0  0  0  0  0  1]\n",
            " [ 0  0  0  0  0  0 68  0  0  1  2  0  0]\n",
            " [ 0  0  0  0  0  0  0 41  1 19  9  0  2]\n",
            " [ 0  0  0  0  0  0  0  2 26  1  0  8  0]\n",
            " [ 0  0  0  0  0  0  0  0  1 58  4  1  1]\n",
            " [ 0  0  0  0  0  0  0  1  0  3 65  0  0]\n",
            " [ 0  0  0  0  0  0  0  2  6  4  0 56  0]\n",
            " [ 0  0  0  0  0  0  0  0  1 12  1  1 55]]\n",
            "Classification Report\n",
            "              precision    recall  f1-score   support\n",
            "\n",
            "          BB       0.87      0.70      0.77        66\n",
            "          BK       0.91      0.62      0.74        34\n",
            "          BN       0.56      0.89      0.69        57\n",
            "          BP       0.84      0.91      0.87        64\n",
            "          BQ       0.68      0.95      0.79        62\n",
            "          BR       0.88      0.22      0.35        65\n",
            "       Empty       0.97      0.96      0.96        71\n",
            "          WB       0.89      0.57      0.69        72\n",
            "          WK       0.72      0.70      0.71        37\n",
            "          WN       0.58      0.89      0.70        65\n",
            "          WP       0.77      0.94      0.85        69\n",
            "          WQ       0.85      0.82      0.84        68\n",
            "          WR       0.93      0.79      0.85        70\n",
            "\n",
            "    accuracy                           0.77       800\n",
            "   macro avg       0.80      0.77      0.76       800\n",
            "weighted avg       0.81      0.77      0.76       800\n",
            "\n"
          ]
        }
      ],
      "source": [
        "test_gen.reset()\n",
        "Y_pred = model_two.predict_generator(test_gen)\n",
        "classes = test_gen.classes[test_gen.index_array]\n",
        "y_pred = np.argmax(Y_pred, axis= -1)\n",
        "print(sum(y_pred==classes)/800)\n",
        "\n",
        "\n",
        "print('Confusion Matrix')\n",
        "print(confusion_matrix(classes, y_pred))\n",
        "print('Classification Report')\n",
        "print(classification_report(test_gen.classes[test_gen.index_array], y_pred, target_names=target_names))"
      ]
    },
    {
      "cell_type": "code",
      "execution_count": 15,
      "metadata": {
        "colab": {},
        "colab_type": "code",
        "id": "loPv70m_zS1_"
      },
      "outputs": [],
      "source": []
    }
  ],
  "metadata": {
    "accelerator": "GPU",
    "colab": {
      "name": "cv_chess_model_and_eval.ipynb",
      "provenance": []
    },
    "kernelspec": {
      "display_name": "Python 3",
      "name": "python3"
    }
  },
  "nbformat": 4,
  "nbformat_minor": 0
}
